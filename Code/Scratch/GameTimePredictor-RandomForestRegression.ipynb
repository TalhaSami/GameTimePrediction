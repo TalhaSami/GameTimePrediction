{
 "cells": [
  {
   "cell_type": "code",
   "execution_count": 62,
   "metadata": {},
   "outputs": [
    {
     "name": "stdout",
     "output_type": "stream",
     "text": [
      "dropped Cold War\n",
      "dropped GameMaker\n",
      "dropped Lore-Rich\n",
      "dropped Modern\n",
      "dropped On-Rails Shooter\n",
      "dropped Sexual Content\n"
     ]
    }
   ],
   "source": [
    "from sklearn.model_selection import cross_val_score, cross_val_predict, GridSearchCV\n",
    "from sklearn.ensemble import RandomForestRegressor\n",
    "from sklearn.model_selection import train_test_split\n",
    "from sklearn.metrics import mean_squared_error\n",
    "import pandas as pd\n",
    "import datetime as dt\n",
    "import csv\n",
    "from math import sqrt\n",
    "\n",
    "\n",
    "def rfr_model(X, y, max_depth_gsc):\n",
    "    # Perform Grid-Search\n",
    "    gsc = GridSearchCV(\n",
    "        estimator=RandomForestRegressor(),\n",
    "        param_grid={\n",
    "            'max_depth': range(3, max_depth_gsc),\n",
    "            'n_estimators': (10, 50, 100, 200, 500),\n",
    "        },\n",
    "        cv=5, scoring='neg_mean_squared_error', verbose=0, n_jobs=-1)\n",
    "\n",
    "    grid_result = gsc.fit(X, y)\n",
    "    best_params = grid_result.best_params_\n",
    "\n",
    "    rfr = RandomForestRegressor(max_depth=best_params[\"max_depth\"], n_estimators=best_params[\"n_estimators\"],\n",
    "                                random_state=False, verbose=False, max_features=\"sqrt\")\n",
    "\n",
    "    rfr.fit(X, y)\n",
    "\n",
    "    return rfr\n",
    "\n",
    "path = \"/Users/Talha/Documents/Master (Big Data)/Semester 3/5001 - Foundations of Data Analytics/Individual Project/\"\n",
    "max_number_of_examples = 10000\n",
    "\n",
    "columns = ['is_free', 'price', 'genres', 'categories', 'tags', 'purchase_date', 'release_date', 'total_positive_reviews', 'total_negative_reviews']\n",
    "labels = ['playtime_forever']\n",
    "\n",
    "columns_train = pd.read_csv(path + \"train.csv\", usecols = columns, nrows=max_number_of_examples).fillna(0)\n",
    "columns_train['is_free'].replace(False, 0, regex=True, inplace=True)\n",
    "columns_train['is_free'].replace(['True'], 1, regex=True, inplace=True)\n",
    "split_columns_train = columns_train[['is_free', 'price', 'total_positive_reviews', 'total_negative_reviews']]\n",
    "split_columns_train = split_columns_train.join(columns_train['genres'].str.get_dummies(sep=',')).join(columns_train['categories'].str.get_dummies(sep=','), lsuffix='_genre', rsuffix='_category').join(columns_train['tags'].str.get_dummies(sep=','), lsuffix='_notTag', rsuffix='_tag')\n",
    "columns_train['release_year'] = pd.DatetimeIndex(columns_train['release_date']).year\n",
    "columns_train['release_month'] = pd.DatetimeIndex(columns_train['release_date']).month\n",
    "columns_train['release_day'] = pd.DatetimeIndex(columns_train['release_date']).day\n",
    "columns_train['release_weekday'] = pd.DatetimeIndex(columns_train['release_date']).dayofweek\n",
    "columns_train['purchase_year'] = pd.DatetimeIndex(columns_train['purchase_date']).year\n",
    "columns_train['purchase_month'] = pd.DatetimeIndex(columns_train['purchase_date']).month\n",
    "columns_train['purchase_day'] = pd.DatetimeIndex(columns_train['purchase_date']).day\n",
    "columns_train['purchase_weekday'] = pd.DatetimeIndex(columns_train['purchase_date']).dayofweek\n",
    "columns_train['purchase_date'] = pd.to_datetime(columns_train['purchase_date'])\n",
    "train_features_data = columns_train[['release_year','release_month','release_day','release_weekday','purchase_year','purchase_month','purchase_day','purchase_weekday']].join(pd.get_dummies(split_columns_train))\n",
    "train_features = train_features_data.columns\n",
    "train_labels_data = pd.read_csv(path + \"train.csv\", usecols = labels, nrows=max_number_of_examples)\n",
    "\n",
    "columns_test = pd.read_csv(path + \"test.csv\", usecols = columns, nrows=max_number_of_examples).fillna(0)\n",
    "columns_test['is_free'].replace(False, 0, regex=True, inplace=True)\n",
    "columns_test['is_free'].replace(True, 1, regex=True, inplace=True)\n",
    "split_columns_test = columns_test[['is_free', 'price', 'total_positive_reviews', 'total_negative_reviews']]\n",
    "split_columns_test = split_columns_test.join(columns_test['genres'].str.get_dummies(sep=',')).join(columns_test['categories'].str.get_dummies(sep=','), lsuffix='_genre', rsuffix='_category').join(columns_test['tags'].str.get_dummies(sep=','), lsuffix='_notTag', rsuffix='_tag')\n",
    "columns_test['release_year'] = pd.DatetimeIndex(columns_test['release_date']).year\n",
    "columns_test['release_month'] = pd.DatetimeIndex(columns_test['release_date']).month\n",
    "columns_test['release_day'] = pd.DatetimeIndex(columns_test['release_date']).day\n",
    "columns_test['release_weekday'] = pd.DatetimeIndex(columns_test['release_date']).dayofweek\n",
    "columns_test['purchase_year'] = pd.DatetimeIndex(columns_test['purchase_date']).year\n",
    "columns_test['purchase_month'] = pd.DatetimeIndex(columns_test['purchase_date']).month\n",
    "columns_test['purchase_day'] = pd.DatetimeIndex(columns_test['purchase_date']).day\n",
    "columns_test['purchase_weekday'] = pd.DatetimeIndex(columns_test['purchase_date']).dayofweek\n",
    "columns_test['purchase_date'] = pd.to_datetime(columns_test['purchase_date'])\n",
    "test_features_data = columns_test[['release_year','release_month','release_day','release_weekday','purchase_year','purchase_month','purchase_day','purchase_weekday']].join(pd.get_dummies(split_columns_test))\n",
    "test_features = test_features_data.columns\n",
    "\n",
    "for train_feature in train_features:\n",
    "    if train_feature not in test_features_data:\n",
    "        test_features_data[train_feature] = 0\n",
    "\n",
    "for test_feature in test_features:\n",
    "    if test_feature not in train_features:\n",
    "        test_features_data.drop(columns=[test_feature], inplace=True)\n",
    "        print(\"dropped \" + test_feature)"
   ]
  },
  {
   "cell_type": "code",
   "execution_count": 65,
   "metadata": {},
   "outputs": [
    {
     "name": "stderr",
     "output_type": "stream",
     "text": [
      "/Users/Talha/anaconda3/lib/python3.6/site-packages/sklearn/model_selection/_search.py:841: DeprecationWarning: The default of the `iid` parameter will change from True to False in version 0.22 and will be removed in 0.24. This will change numeric results when test-set sizes are unequal.\n",
      "  DeprecationWarning)\n",
      "/Users/Talha/anaconda3/lib/python3.6/site-packages/sklearn/model_selection/_search.py:740: DataConversionWarning: A column-vector y was passed when a 1d array was expected. Please change the shape of y to (n_samples,), for example using ravel().\n",
      "  self.best_estimator_.fit(X, y, **fit_params)\n",
      "/Users/Talha/anaconda3/lib/python3.6/site-packages/ipykernel_launcher.py:27: DataConversionWarning: A column-vector y was passed when a 1d array was expected. Please change the shape of y to (n_samples,), for example using ravel().\n"
     ]
    },
    {
     "data": {
      "text/plain": [
       "array([0.95840057, 1.50646992, 0.9970157 , 2.55960494, 4.30132996,\n",
       "       3.02010886, 2.65226881, 1.24594845, 3.69448328, 5.70826811,\n",
       "       3.4378167 , 3.04602883, 6.35336976, 1.75018227, 1.46442918,\n",
       "       1.22653316, 2.96124632, 4.46965885, 1.93025926, 0.83444975,\n",
       "       1.70260218, 2.30073009, 1.14376013, 0.78101868, 1.67193317,\n",
       "       1.65668611, 1.11489371, 4.06897879, 4.19361015, 2.25903517,\n",
       "       2.70314864, 5.73553467, 2.33756552, 2.58880621, 2.9592602 ,\n",
       "       2.8883327 , 3.09539511, 2.70830465, 2.89356724, 2.40968845,\n",
       "       2.57414258, 3.60147526, 4.69455285, 1.47542334, 4.19896847,\n",
       "       7.71966294, 1.28392911, 3.81706765, 3.17987422, 2.57392591,\n",
       "       6.46220241, 1.71197653, 1.71227182, 2.22808617, 2.23633221,\n",
       "       4.50971963, 1.63996223, 3.42096195, 3.09589073, 4.02164424,\n",
       "       3.41318064, 1.32482159, 2.82585071, 6.80345105, 0.76214837,\n",
       "       1.45838976, 2.06953407, 2.85343272, 4.17504228, 0.80064618,\n",
       "       2.41912171, 2.87124117, 1.98663483, 6.98328544, 2.32055369,\n",
       "       4.51112983, 6.30086971, 1.73334528, 1.28641666, 5.80642035,\n",
       "       1.06645704, 3.5625622 , 1.3104511 , 6.4687806 , 2.4223708 ,\n",
       "       1.99557243, 2.48854932, 4.47529372, 1.34287098, 3.85101285])"
      ]
     },
     "execution_count": 65,
     "metadata": {},
     "output_type": "execute_result"
    }
   ],
   "source": [
    "max_depth_gsc = 20\n",
    "rfr = rfr_model(train_features_data, train_labels_data, max_depth_gsc)\n",
    "\n",
    "predictions = rfr.predict(test_features_data)\n",
    "\n",
    "#predictions = rfr.predict(train_features_data)\n",
    "\n",
    "predictions"
   ]
  },
  {
   "cell_type": "code",
   "execution_count": 64,
   "metadata": {},
   "outputs": [
    {
     "data": {
      "text/plain": [
       "4.119664432543444"
      ]
     },
     "execution_count": 64,
     "metadata": {},
     "output_type": "execute_result"
    }
   ],
   "source": [
    "sqrt(mean_squared_error(predictions, train_labels_data))"
   ]
  },
  {
   "cell_type": "code",
   "execution_count": 59,
   "metadata": {},
   "outputs": [],
   "source": [
    "with open('sample_submission.csv', 'w') as csvfile:\n",
    "    spamwriter = csv.writer(csvfile, delimiter=',',\n",
    "                            quotechar='|', quoting=csv.QUOTE_MINIMAL)\n",
    "    spamwriter.writerow(['id','playtime_forever'])\n",
    "    id = 0\n",
    "    for prediction in predictions:\n",
    "        spamwriter.writerow([id, prediction])\n",
    "        id+=1"
   ]
  }
 ],
 "metadata": {
  "kernelspec": {
   "display_name": "Python 3",
   "language": "python",
   "name": "python3"
  },
  "language_info": {
   "codemirror_mode": {
    "name": "ipython",
    "version": 3
   },
   "file_extension": ".py",
   "mimetype": "text/x-python",
   "name": "python",
   "nbconvert_exporter": "python",
   "pygments_lexer": "ipython3",
   "version": "3.6.5"
  }
 },
 "nbformat": 4,
 "nbformat_minor": 2
}
